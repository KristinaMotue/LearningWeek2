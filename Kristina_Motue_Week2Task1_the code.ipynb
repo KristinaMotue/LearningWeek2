{
 "cells": [
  {
   "cell_type": "code",
   "execution_count": null,
   "metadata": {},
   "outputs": [],
   "source": [
    "destination = int(input(\"Hello, enter the price of your travel destination. Paris £149, Prague £199, Madrid £219\")) #ask user for destination\n",
    "if destination == 149:\n",
    "    print(\"Thank you, your travel destination is Paris.\")\n",
    "if destination == 199:\n",
    "    print(\"Thank you, your travel destination is Prague.\")\n",
    "if destination == 219:\n",
    "    print(\"Thank you, your travel destination is Madrid.\")\n",
    "luggage = int(input(\"Would you like additional luggage for an extra £50? Enter 50 if yes or enter 0 if no\"))\n",
    "if luggage == 50:\n",
    "    print(\"Thank you for booking additional luggage.\")\n",
    "if luggage == 0:\n",
    "    print(\"Looks like you are not going to pack a lot.\")\n",
    "insurance = int(input(\"Would you like a travel insurance for an extra £19.99? Enter 20 if yes or 0 if no.\"))\n",
    "if insurance == 20:\n",
    "    print(\"Now you are covered!\")\n",
    "if insurance == 0:\n",
    "    print(\"Looks like you have travel insurance already.\")\n",
    "print(\"Thank you for booking. You have £\", destination + luggage + insurance, \"to pay.\")\n",
    "    "
   ]
  },
  {
   "cell_type": "code",
   "execution_count": null,
   "metadata": {},
   "outputs": [],
   "source": []
  }
 ],
 "metadata": {
  "kernelspec": {
   "display_name": "Python 3",
   "language": "python",
   "name": "python3"
  },
  "language_info": {
   "codemirror_mode": {
    "name": "ipython",
    "version": 3
   },
   "file_extension": ".py",
   "mimetype": "text/x-python",
   "name": "python",
   "nbconvert_exporter": "python",
   "pygments_lexer": "ipython3",
   "version": "3.8.5"
  }
 },
 "nbformat": 4,
 "nbformat_minor": 4
}
