{
 "cells": [
  {
   "cell_type": "code",
   "execution_count": 1,
   "metadata": {},
   "outputs": [
    {
     "name": "stdout",
     "output_type": "stream",
     "text": [
      "Hello, choose two numbers please.\n"
     ]
    },
    {
     "name": "stdin",
     "output_type": "stream",
     "text": [
      "first number is:  5\n",
      "second number is:  2\n"
     ]
    },
    {
     "name": "stdout",
     "output_type": "stream",
     "text": [
      "Thank you. Now, choose an operation for the two numbers\n"
     ]
    },
    {
     "name": "stdin",
     "output_type": "stream",
     "text": [
      "Enter A if you want to ADD, enter B if you want to SUBTRACT, enter C if you want to MULTIPLY, enter D if you want to DIVIDE, enter E if you want to POWER:  D\n"
     ]
    }
   ],
   "source": [
    "print(\"Hello, choose two numbers please.\")\n",
    "number_1 = int(input(\"first number is: \"))\n",
    "number_2 = int(input(\"second number is: \"))\n",
    "print(\"Thank you. Now, choose an operation for the two numbers\")\n",
    "operation = input(\"Enter A if you want to ADD, enter B if you want to SUBTRACT, enter C if you want to MULTIPLY, enter D if you want to DIVIDE, enter E if you want to POWER: \")\n",
    "\n",
    "def procedure(operation):\n",
    "    print(\"The result is\", + operation)"
   ]
  },
  {
   "cell_type": "code",
   "execution_count": 2,
   "metadata": {},
   "outputs": [
    {
     "name": "stdout",
     "output_type": "stream",
     "text": [
      "The result is 7\n"
     ]
    }
   ],
   "source": [
    "A = number_1 + number_2\n",
    "procedure(A)"
   ]
  },
  {
   "cell_type": "code",
   "execution_count": 3,
   "metadata": {},
   "outputs": [
    {
     "name": "stdout",
     "output_type": "stream",
     "text": [
      "The result is 3\n"
     ]
    }
   ],
   "source": [
    "B = number_1 - number_2\n",
    "procedure(B)"
   ]
  },
  {
   "cell_type": "code",
   "execution_count": 4,
   "metadata": {},
   "outputs": [
    {
     "name": "stdout",
     "output_type": "stream",
     "text": [
      "The result is 10\n"
     ]
    }
   ],
   "source": [
    "C = number_1 * number_2\n",
    "procedure(C)"
   ]
  },
  {
   "cell_type": "code",
   "execution_count": 5,
   "metadata": {},
   "outputs": [
    {
     "name": "stdout",
     "output_type": "stream",
     "text": [
      "The result is 2.5\n"
     ]
    }
   ],
   "source": [
    "D = number_1 / number_2\n",
    "procedure(D)"
   ]
  },
  {
   "cell_type": "code",
   "execution_count": 6,
   "metadata": {},
   "outputs": [
    {
     "name": "stdout",
     "output_type": "stream",
     "text": [
      "The result is 25\n"
     ]
    }
   ],
   "source": [
    "E = number_1 ** number_2\n",
    "procedure(E)"
   ]
  },
  {
   "cell_type": "code",
   "execution_count": null,
   "metadata": {},
   "outputs": [],
   "source": []
  }
 ],
 "metadata": {
  "kernelspec": {
   "display_name": "Python 3",
   "language": "python",
   "name": "python3"
  },
  "language_info": {
   "codemirror_mode": {
    "name": "ipython",
    "version": 3
   },
   "file_extension": ".py",
   "mimetype": "text/x-python",
   "name": "python",
   "nbconvert_exporter": "python",
   "pygments_lexer": "ipython3",
   "version": "3.8.5"
  }
 },
 "nbformat": 4,
 "nbformat_minor": 4
}
