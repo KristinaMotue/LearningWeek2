{
 "cells": [
  {
   "cell_type": "code",
   "execution_count": 1,
   "metadata": {},
   "outputs": [
    {
     "name": "stdout",
     "output_type": "stream",
     "text": [
      "1800.0\n",
      "1620.0\n",
      "1458.0\n",
      "1312.2\n",
      "1180.8\n",
      "1062.0\n",
      "955.8000000000001\n",
      "The final price of the motorbike is £ 955.8000000000001\n"
     ]
    }
   ],
   "source": [
    "def function1(Motorbike):\n",
    "    motorbike = Motorbike\n",
    "   \n",
    "    output = int(Motorbike) * 0.9   \n",
    "    return output\n",
    "\n",
    "\n",
    "motorbike = 2000\n",
    "function1(motorbike)\n",
    "message = function1(motorbike)\n",
    "print(message)\n",
    "\n",
    "motorbike1 = 1800\n",
    "function1(motorbike1)\n",
    "message1 = function1(motorbike1)\n",
    "print(message1)\n",
    "\n",
    "motorbike2 = 1620.0\n",
    "function1(motorbike2)\n",
    "message2 = function1(motorbike2)\n",
    "print(message2)\n",
    "\n",
    "motorbike3 = 1458.0\n",
    "function1(motorbike3)\n",
    "message3 = function1(motorbike3)\n",
    "print(message3)\n",
    "\n",
    "motorbike4 = 1312.2\n",
    "function1(motorbike4)\n",
    "message4 = function1(motorbike4)\n",
    "print(message4)\n",
    "\n",
    "motorbike5 = 1180.8\n",
    "function1(motorbike5)\n",
    "message5 = function1(motorbike5)\n",
    "print(message5)\n",
    "\n",
    "motorbike6 = 1062.0\n",
    "function1(motorbike6)\n",
    "message6 = function1(motorbike6)\n",
    "print(message6)\n",
    "print(\"The final price of the motorbike is £\", + message6)\n",
    "\n"
   ]
  },
  {
   "cell_type": "code",
   "execution_count": null,
   "metadata": {},
   "outputs": [],
   "source": []
  }
 ],
 "metadata": {
  "kernelspec": {
   "display_name": "Python 3",
   "language": "python",
   "name": "python3"
  },
  "language_info": {
   "codemirror_mode": {
    "name": "ipython",
    "version": 3
   },
   "file_extension": ".py",
   "mimetype": "text/x-python",
   "name": "python",
   "nbconvert_exporter": "python",
   "pygments_lexer": "ipython3",
   "version": "3.8.5"
  }
 },
 "nbformat": 4,
 "nbformat_minor": 4
}
